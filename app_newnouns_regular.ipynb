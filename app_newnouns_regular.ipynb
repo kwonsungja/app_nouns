{
  "nbformat": 4,
  "nbformat_minor": 0,
  "metadata": {
    "colab": {
      "provenance": [],
      "authorship_tag": "ABX9TyMsQD1GK+zMxcfmh4lDHp43",
      "include_colab_link": true
    },
    "kernelspec": {
      "name": "python3",
      "display_name": "Python 3"
    },
    "language_info": {
      "name": "python"
    }
  },
  "cells": [
    {
      "cell_type": "markdown",
      "metadata": {
        "id": "view-in-github",
        "colab_type": "text"
      },
      "source": [
        "<a href=\"https://colab.research.google.com/github/kwonsungja/app_nouns/blob/main/app_newnouns_regular.ipynb\" target=\"_parent\"><img src=\"https://colab.research.google.com/assets/colab-badge.svg\" alt=\"Open In Colab\"/></a>"
      ]
    },
    {
      "cell_type": "code",
      "source": [
        "import gradio as gr\n",
        "import pandas as pd\n",
        "import random\n",
        "\n",
        "# Load the CSV file from the provided URL\n",
        "csv_url = \"https://raw.githubusercontent.com/kwonsungja/app_nouns/main/regular_Nouns_real.csv\"\n",
        "try:\n",
        "    df = pd.read_csv(csv_url)\n",
        "    df.columns = df.columns.str.lower()  # 데이터프레임 열 이름을 소문자로 변환\n",
        "\n",
        "    # 공백 제거\n",
        "    df[\"singular\"] = df[\"singular\"].str.strip()\n",
        "    df[\"level\"] = df[\"level\"].str.strip()\n",
        "except Exception as e:\n",
        "    print(f\"CSV 파일을 불러오는 데 실패했습니다: {e}\")\n",
        "    exit()\n",
        "\n",
        "# Count the number of items in each level\n",
        "counts = df[\"level\"].value_counts()\n",
        "levels_with_counts = [\n",
        "    f\"{level} ({counts.get(level, 0)} items)\"\n",
        "    for level in [\"s\", \"es\", \"ies\"]\n",
        "]\n",
        "\n",
        "def initialize_user_state():\n",
        "    return {\n",
        "        \"remaining_nouns\": pd.DataFrame(),\n",
        "        \"current_level\": None,\n",
        "        \"score\": 0,\n",
        "        \"trials\": 0,\n",
        "        \"current_index\": -1,\n",
        "        \"level_scores\": {level: {\"score\": 0, \"trials\": 0} for level in [\"s\", \"es\", \"ies\"]},\n",
        "    }\n",
        "\n",
        "def pluralize(noun):\n",
        "    noun = noun.strip()  # 문자열의 앞뒤 공백 제거\n",
        "    if noun.endswith(('s', 'ss', 'sh', 'ch', 'x', 'z', 'o')):\n",
        "        return noun + 'es'\n",
        "    elif noun.endswith('y') and not noun[-2] in 'aeiou':\n",
        "        return noun[:-1] + 'ies'\n",
        "    else:\n",
        "        return noun + 's'\n",
        "\n",
        "def filter_nouns_if_needed(level_with_count, user_state):\n",
        "    level = level_with_count.split(\" \")[0]\n",
        "    if user_state[\"current_level\"] != level:\n",
        "        filtered_nouns = df[df[\"level\"] == level].copy()\n",
        "        if filtered_nouns.empty:\n",
        "            return user_state, f\"No nouns available for the Level: {level}. Please select a different level.\"\n",
        "        user_state[\"remaining_nouns\"] = filtered_nouns\n",
        "        user_state[\"current_level\"] = level\n",
        "        user_state[\"score\"] = 0\n",
        "        user_state[\"trials\"] = 0\n",
        "        user_state[\"current_index\"] = -1\n",
        "        return user_state, f\"Level {level} selected. Click 'Show the Noun' to start!\"\n",
        "    return user_state, None\n",
        "\n",
        "def show_next_noun(level_with_count, user_state):\n",
        "    user_state, feedback = filter_nouns_if_needed(level_with_count, user_state)\n",
        "    if user_state[\"remaining_nouns\"].empty:\n",
        "        return user_state, feedback or \"All nouns have been answered correctly. Great job!\", \"\"\n",
        "    user_state[\"current_index\"] = random.randint(0, len(user_state[\"remaining_nouns\"]) - 1)\n",
        "    selected_noun = user_state[\"remaining_nouns\"].iloc[user_state[\"current_index\"]]\n",
        "    return user_state, f\"What's the plural form of '{selected_noun['singular']}'?\", \"\"\n",
        "\n",
        "def check_plural(user_plural, user_state):\n",
        "    if user_state[\"remaining_nouns\"].empty:\n",
        "        return user_state, f\"All nouns have been answered correctly. Great job! (Score: {user_state['score']}/{user_state['trials']})\"\n",
        "\n",
        "    index = user_state[\"current_index\"]\n",
        "    if index == -1:\n",
        "        return user_state, f\"Please click 'Show the Noun' first. (Score: {user_state['score']}/{user_state['trials']})\"\n",
        "\n",
        "    noun_data = user_state[\"remaining_nouns\"].iloc[index]\n",
        "    singular = noun_data[\"singular\"]\n",
        "    correct_plural = pluralize(singular)\n",
        "\n",
        "    user_state[\"trials\"] += 1\n",
        "    user_state[\"level_scores\"][user_state[\"current_level\"]][\"trials\"] += 1\n",
        "\n",
        "    # 사용자 입력과 정답 비교 시 공백 제거\n",
        "    if user_plural.strip().lower() == correct_plural.strip().lower():\n",
        "        user_state[\"score\"] += 1\n",
        "        user_state[\"level_scores\"][user_state[\"current_level\"]][\"score\"] += 1\n",
        "        feedback = f\"✅ Correct! '{correct_plural}' is the plural form of '{singular}'. Click 'Show the Noun' to continue.\"\n",
        "        user_state[\"remaining_nouns\"] = user_state[\"remaining_nouns\"].drop(user_state[\"remaining_nouns\"].index[index])\n",
        "    else:\n",
        "        feedback = f\"❌ Incorrect. The correct plural form is '{correct_plural}' for '{singular}'. It will appear again.\"\n",
        "\n",
        "    if user_state[\"remaining_nouns\"].empty:\n",
        "        feedback += f\"\\n🎉 All nouns have been answered correctly. Great job! (Score: {user_state['score']}/{user_state['trials']})\"\n",
        "\n",
        "    return user_state, f\"{feedback} (Score: {user_state['score']}/{user_state['trials']})\"\n",
        "\n",
        "def display_total_score(user_state):\n",
        "    total_score = \", \".join(\n",
        "        f\"{level}({user_state['level_scores'][level]['score']}/{user_state['level_scores'][level]['trials']})\"\n",
        "        for level in [\"s\", \"es\", \"ies\"]\n",
        "    )\n",
        "    return total_score\n",
        "\n",
        "with gr.Blocks() as app:\n",
        "    gr.Markdown(\"# NounSmart: Practice regular Plural Nouns\")\n",
        "    gr.Markdown(\"\"\"\n",
        "    ## How to Use the App\n",
        "    1. **Follow the steps from Step 1 to Step 4.**\n",
        "    2. **Click 'Show Report' to view overall feedback across all levels.**\n",
        "    \"\"\")\n",
        "\n",
        "    level_dropdown = gr.Dropdown(\n",
        "        label=\"Step 1. Select a Level to start.\",\n",
        "        choices=levels_with_counts,\n",
        "        value=levels_with_counts[0],\n",
        "        interactive=True\n",
        "    )\n",
        "\n",
        "    show_button = gr.Button(\"Step 2. Show the Noun\")\n",
        "    noun_display = gr.Textbox(label=\"Singular Noun\", value=\"Select a level to start\", interactive=False)\n",
        "\n",
        "    plural_input = gr.Textbox(label=\"Step 3. Type Your answer.\", placeholder=\"Type your answer here\")\n",
        "\n",
        "    submit_button = gr.Button(\"Step 4. See the Answer and Feedback\")\n",
        "    feedback_display = gr.Textbox(label=\"Feedback and Score\", interactive=False)\n",
        "\n",
        "    total_score_button = gr.Button(\"Show Report\")\n",
        "    total_score_display = gr.Textbox(label=\"Total Score by Levels\", interactive=False)\n",
        "\n",
        "    state = gr.State(initialize_user_state())\n",
        "\n",
        "    show_button.click(fn=show_next_noun, inputs=[level_dropdown, state], outputs=[state, noun_display, plural_input])\n",
        "    submit_button.click(fn=check_plural, inputs=[plural_input, state], outputs=[state, feedback_display])\n",
        "    total_score_button.click(fn=display_total_score, inputs=state, outputs=total_score_display)\n",
        "\n",
        "app.launch()"
      ],
      "metadata": {
        "colab": {
          "base_uri": "https://localhost:8080/",
          "height": 648
        },
        "id": "wR2IX0Lf5oZQ",
        "outputId": "1c791112-6c18-413a-f2ee-37ee8fd0c2a1"
      },
      "execution_count": 4,
      "outputs": [
        {
          "output_type": "stream",
          "name": "stdout",
          "text": [
            "Running Gradio in a Colab notebook requires sharing enabled. Automatically setting `share=True` (you can turn this off by setting `share=False` in `launch()` explicitly).\n",
            "\n",
            "Colab notebook detected. To show errors in colab notebook, set debug=True in launch()\n",
            "* Running on public URL: https://15bf321854ce5368bd.gradio.live\n",
            "\n",
            "This share link expires in 72 hours. For free permanent hosting and GPU upgrades, run `gradio deploy` from the terminal in the working directory to deploy to Hugging Face Spaces (https://huggingface.co/spaces)\n"
          ]
        },
        {
          "output_type": "display_data",
          "data": {
            "text/plain": [
              "<IPython.core.display.HTML object>"
            ],
            "text/html": [
              "<div><iframe src=\"https://15bf321854ce5368bd.gradio.live\" width=\"100%\" height=\"500\" allow=\"autoplay; camera; microphone; clipboard-read; clipboard-write;\" frameborder=\"0\" allowfullscreen></iframe></div>"
            ]
          },
          "metadata": {}
        },
        {
          "output_type": "execute_result",
          "data": {
            "text/plain": []
          },
          "metadata": {},
          "execution_count": 4
        }
      ]
    }
  ]
}